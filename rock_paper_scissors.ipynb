{
 "cells": [
  {
   "cell_type": "code",
   "execution_count": null,
   "id": "d928106b-2eb6-4e6f-844d-6e72687f63d4",
   "metadata": {},
   "outputs": [],
   "source": []
  },
  {
   "cell_type": "code",
   "execution_count": 72,
   "id": "358e9ce2-82b7-4016-9a6e-f8f435a48f53",
   "metadata": {},
   "outputs": [],
   "source": [
    "import tkinter as tk"
   ]
  },
  {
   "cell_type": "code",
   "execution_count": null,
   "id": "61ab26d4-75ed-4e2d-a471-b45dee6b0a1b",
   "metadata": {},
   "outputs": [],
   "source": []
  },
  {
   "cell_type": "code",
   "execution_count": 73,
   "id": "f75bf51f-2734-4358-8647-3f0f8f8fb251",
   "metadata": {},
   "outputs": [
    {
     "name": "stderr",
     "output_type": "stream",
     "text": [
      "Exception in Tkinter callback\n",
      "Traceback (most recent call last):\n",
      "  File \"/home/dave/anaconda3/lib/python3.9/tkinter/__init__.py\", line 1892, in __call__\n",
      "    return self.func(*args)\n",
      "TypeError: rock_paper_scissors() missing 1 required positional argument: 'number_of_rounds'\n"
     ]
    }
   ],
   "source": [
    "class Window(tk.Tk):\n",
    "    def __init__(self):\n",
    "        super().__init__()\n",
    "        self.title('Rock, Paper, Scissors Game')\n",
    "\n",
    "        self.label = tk.Label(self, text='Click one')\n",
    "        self.label.pack(fill=tk.BOTH,expand=1,padx=300,pady=100)\n",
    "\n",
    "        continue_button = tk.Button(self,text = 'Click here to continue',command=self.rock_paper_scissors)\n",
    "        continue_button.pack(side=tk.LEFT, padx=(20,0),pady=(0,20))\n",
    "\n",
    "        exit_button = tk.Button(self, text='Exit',command = self.click_to_exit)\n",
    "        exit_button.pack(side = tk.RIGHT, padx=(0,20),pady=(0,20))\n",
    "        \n",
    "    def click_to_continue(self):\n",
    "        self.label.configure(text=\"Game starting\")\n",
    "\n",
    "    def click_to_exit(self):\n",
    "        self.label.configure(text=\"Exiting game in 2 seconds\")\n",
    "        self.after(2000, self.destroy)\n",
    "        \n",
    "    def rock_paper_scissors(self,number_of_rounds):\n",
    "    \n",
    "        \"\"\" This is a rock, paper, scissors game. \n",
    "\n",
    "        Paper wraps rock, rock bends scissors, scissors cuts paper \n",
    "\n",
    "        Parameters\n",
    "        -----------\n",
    "        number_of_rounds : int\n",
    "            This is the number of rounds you want to play the game\n",
    "\n",
    "        \"\"\"\n",
    "        from colorama import Fore\n",
    "        import random \n",
    "        wins = 0\n",
    "        losses = 0\n",
    "        while int(number_of_rounds) > 0:    \n",
    "            response = input('Enter your guess: ')\n",
    "            response = response.lower()\n",
    "            comp_response = random.choice(['rock','paper','scissors'])\n",
    "\n",
    "            if response =='rock':\n",
    "                if comp_response == 'rock':\n",
    "                    print('No winner, play again')\n",
    "                elif comp_response == 'scissors':\n",
    "                    print(Fore.GREEN + 'you win')\n",
    "                    wins +=1\n",
    "                elif comp_response =='paper':\n",
    "                    print(Fore.RED + 'you lose')\n",
    "                    losses +=1\n",
    "\n",
    "            if response == 'paper':\n",
    "                if comp_response == 'rock':\n",
    "                    print(Fore.GREEN + 'you win')\n",
    "                    wins += 1\n",
    "                elif comp_response == 'scissors':\n",
    "                    print(Fore.RED + 'you lose')\n",
    "                    losses += 1\n",
    "                elif comp_response =='paper':\n",
    "                    print('No winner play again')\n",
    "\n",
    "            if response == 'scissors':\n",
    "                if comp_response == 'rock':\n",
    "                    print(Fore.GREEN + 'you win')\n",
    "                    wins += 1\n",
    "                elif comp_response == 'scissors':\n",
    "                    print('no winner play again')\n",
    "                elif comp_response =='paper':\n",
    "                    print(Fore.RED + 'you lose')\n",
    "                    losses += 1\n",
    "\n",
    "            number_of_rounds -=1\n",
    "\n",
    "if __name__ == '__main__':\n",
    "    window = Window()\n",
    "    window.mainloop()         "
   ]
  },
  {
   "cell_type": "code",
   "execution_count": null,
   "id": "ee20bfc2-de0b-4172-b7cd-624b4396c514",
   "metadata": {},
   "outputs": [],
   "source": []
  },
  {
   "cell_type": "code",
   "execution_count": null,
   "id": "c4b3f0d2-edad-4f71-9ce2-542cc86a4ff5",
   "metadata": {},
   "outputs": [],
   "source": []
  },
  {
   "cell_type": "code",
   "execution_count": null,
   "id": "2e0747ef-8c96-4783-bf26-10b4c5f63386",
   "metadata": {},
   "outputs": [],
   "source": []
  },
  {
   "cell_type": "code",
   "execution_count": null,
   "id": "b2d855ab-8306-41aa-bde5-fcf8e6a4d927",
   "metadata": {},
   "outputs": [],
   "source": []
  }
 ],
 "metadata": {
  "kernelspec": {
   "display_name": "Python 3 (ipykernel)",
   "language": "python",
   "name": "python3"
  },
  "language_info": {
   "codemirror_mode": {
    "name": "ipython",
    "version": 3
   },
   "file_extension": ".py",
   "mimetype": "text/x-python",
   "name": "python",
   "nbconvert_exporter": "python",
   "pygments_lexer": "ipython3",
   "version": "3.9.7"
  }
 },
 "nbformat": 4,
 "nbformat_minor": 5
}
