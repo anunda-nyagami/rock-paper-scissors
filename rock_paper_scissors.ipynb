{
 "cells": [
  {
   "cell_type": "code",
   "execution_count": 23,
   "id": "ef9c4e80-d801-451d-a124-4bad49bc17d8",
   "metadata": {},
   "outputs": [],
   "source": [
    "\n",
    "\n",
    "def rock_paper_scissors(number_of_rounds):\n",
    "    \n",
    "    \"\"\" This is a rock, paper, scissors game. \n",
    "    \n",
    "    Paper wraps rock, rock bends scissors, scissors cuts paper \n",
    "    \n",
    "    Parameters\n",
    "    -----------\n",
    "    number_of_rounds : int\n",
    "        This is the number of rounds you want to play the game\n",
    "    \n",
    "    \"\"\"\n",
    "    from colorama import Fore\n",
    "    import random \n",
    "    wins = 0\n",
    "    losses = 0\n",
    "    while int(number_of_rounds) > 0:    \n",
    "        response = input('Enter your guess: ')\n",
    "        response = response.lower()\n",
    "        comp_response = random.choice(['rock','paper','scissors'])\n",
    "\n",
    "        if response =='rock':\n",
    "            if comp_response == 'rock':\n",
    "                print('No winner, play again')\n",
    "            elif comp_response == 'scissors':\n",
    "                print(Fore.GREEN + 'you win')\n",
    "                wins +=1\n",
    "            elif comp_response =='paper':\n",
    "                print(Fore.RED + 'you lose')\n",
    "                losses +=1\n",
    "\n",
    "        if response == 'paper':\n",
    "            if comp_response == 'rock':\n",
    "                print(Fore.GREEN + 'you win')\n",
    "                wins += 1\n",
    "            elif comp_response == 'scissors':\n",
    "                print(Fore.RED + 'you lose')\n",
    "                losses += 1\n",
    "            elif comp_response =='paper':\n",
    "                print('No winner play again')\n",
    "\n",
    "        if response == 'scissors':\n",
    "            if comp_response == 'rock':\n",
    "                print(Fore.GREEN + 'you win')\n",
    "                wins += 1\n",
    "            elif comp_response == 'scissors':\n",
    "                print('no winner play again')\n",
    "            elif comp_response =='paper':\n",
    "                print(Fore.RED + 'you lose')\n",
    "                losses += 1\n",
    "\n",
    "        number_of_rounds -=1\n",
    "    \n",
    "    print('*************************************')\n",
    "    \n",
    "    print(f\"Wins = {wins} and losses = {losses}\")"
   ]
  },
  {
   "cell_type": "code",
   "execution_count": 24,
   "id": "b1201066-8794-42e4-a046-21c1f84daf16",
   "metadata": {},
   "outputs": [
    {
     "name": "stdout",
     "output_type": "stream",
     "text": [
      "Enter your guess:  ROCK\n"
     ]
    },
    {
     "name": "stdout",
     "output_type": "stream",
     "text": [
      "\u001b[32myou win\n"
     ]
    },
    {
     "name": "stdout",
     "output_type": "stream",
     "text": [
      "Enter your guess:  ROCK\n"
     ]
    },
    {
     "name": "stdout",
     "output_type": "stream",
     "text": [
      "\u001b[31myou lose\n"
     ]
    },
    {
     "name": "stdout",
     "output_type": "stream",
     "text": [
      "Enter your guess:  PAPER\n"
     ]
    },
    {
     "name": "stdout",
     "output_type": "stream",
     "text": [
      "\u001b[32myou win\n"
     ]
    },
    {
     "name": "stdout",
     "output_type": "stream",
     "text": [
      "Enter your guess:  SCISSORS\n"
     ]
    },
    {
     "name": "stdout",
     "output_type": "stream",
     "text": [
      "\u001b[32myou win\n"
     ]
    },
    {
     "name": "stdout",
     "output_type": "stream",
     "text": [
      "Enter your guess:  ROCK\n"
     ]
    },
    {
     "name": "stdout",
     "output_type": "stream",
     "text": [
      "\u001b[32myou win\n"
     ]
    },
    {
     "name": "stdout",
     "output_type": "stream",
     "text": [
      "Enter your guess:  PAPER\n"
     ]
    },
    {
     "name": "stdout",
     "output_type": "stream",
     "text": [
      "\u001b[31myou lose\n"
     ]
    },
    {
     "name": "stdout",
     "output_type": "stream",
     "text": [
      "Enter your guess:  PAPER\n"
     ]
    },
    {
     "name": "stdout",
     "output_type": "stream",
     "text": [
      "\u001b[32myou win\n"
     ]
    },
    {
     "name": "stdout",
     "output_type": "stream",
     "text": [
      "Enter your guess:  SCISSORS\n"
     ]
    },
    {
     "name": "stdout",
     "output_type": "stream",
     "text": [
      "\u001b[31myou lose\n"
     ]
    },
    {
     "name": "stdout",
     "output_type": "stream",
     "text": [
      "Enter your guess:  ROCK\n"
     ]
    },
    {
     "name": "stdout",
     "output_type": "stream",
     "text": [
      "\u001b[32myou win\n"
     ]
    },
    {
     "name": "stdout",
     "output_type": "stream",
     "text": [
      "Enter your guess:  PAPER\n"
     ]
    },
    {
     "name": "stdout",
     "output_type": "stream",
     "text": [
      "\u001b[32myou win\n",
      "*************************************\n",
      "Wins = 7 and losses = 3\n"
     ]
    }
   ],
   "source": [
    "rock_paper_scissors(10)"
   ]
  },
  {
   "cell_type": "code",
   "execution_count": null,
   "id": "b2d855ab-8306-41aa-bde5-fcf8e6a4d927",
   "metadata": {},
   "outputs": [],
   "source": []
  }
 ],
 "metadata": {
  "kernelspec": {
   "display_name": "Python 3 (ipykernel)",
   "language": "python",
   "name": "python3"
  },
  "language_info": {
   "codemirror_mode": {
    "name": "ipython",
    "version": 3
   },
   "file_extension": ".py",
   "mimetype": "text/x-python",
   "name": "python",
   "nbconvert_exporter": "python",
   "pygments_lexer": "ipython3",
   "version": "3.9.7"
  }
 },
 "nbformat": 4,
 "nbformat_minor": 5
}
